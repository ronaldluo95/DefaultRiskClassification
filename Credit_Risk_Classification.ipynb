{
 "cells": [
  {
   "cell_type": "markdown",
   "metadata": {},
   "source": [
    "\n",
    "# Home Credit - Default Risk Classification \n",
    "https://www.kaggle.com/c/home-credit-default-risk/overview\n",
    "\n",
    "### Goal  \n",
    "   - Predict if a bank should accept or reject a loan application of an individual (binary classification)\n",
    "   - Achieve an acceptable AUC score (0.75+).\n",
    "   - Perform threshold optimization. \n",
    "\n",
    "\n",
    "### Overview:  \n",
    "   - Will perform manual feature engineering\n",
    "   - Will evaluate different algorithms using AUC score\n",
    "   - Will use LGBM for the classification\n",
    "   - Will perform parameter tuning using RandomSearch\n",
    " \n",
    "### Notebook Structure :\n",
    "    \n",
    " - Exploratory data analysis\n",
    " - Handle Missing Values\n",
    " - Handle Categorical Features\n",
    " - Evaluate algorithms  \n",
    "    - LGBM\n",
    "    - Tree\n",
    "    - Random Forest\n",
    "   - Feature importance\n",
    " - Threshold optimization （G-MEAN)\n",
    " \n",
    "### Learning Material: \n",
    " \n",
    "#### @Will Koehrsen: https://www.kaggle.com/willkoehrsen/home-credit-default-risk-feature-tools\n",
    "- Learned a lot about EDA and feature engineering from his notebook.\n",
    "\n",
    "#### @Misha Lisovyi: https://www.kaggle.com/mlisovyi/lightgbm-hyperparameter-optimisation-lb-0-761\n",
    "- The hyperparameter tuning skills are learned from here. Good tutorial.\n",
    "\n",
    "#### @Jason Brownlee: https://machinelearningmastery.com/threshold-moving-for-imbalanced-classification/\n",
    "- Great article about parameter tuning for imbalanced classification.\n",
    "\n",
    "#### Note: Some of the codes here are learned from the aboving three notebooks.\n"
   ]
  },
  {
   "cell_type": "markdown",
   "metadata": {},
   "source": [
    "### ----Content Starts here-----"
   ]
  },
  {
   "cell_type": "code",
   "execution_count": 1,
   "metadata": {},
   "outputs": [],
   "source": [
    "import os\n",
    "import pandas as pd\n",
    "import numpy as np\n",
    "import matplotlib.pyplot as plt\n",
    "import seaborn as sns"
   ]
  },
  {
   "cell_type": "markdown",
   "metadata": {},
   "source": [
    "Define some functions that could help us operate faster. "
   ]
  },
  {
   "cell_type": "code",
   "execution_count": 2,
   "metadata": {},
   "outputs": [],
   "source": [
    "def value_counts(cols):\n",
    "    value_counts = cols.value_counts(dropna = False )\n",
    "    return value_counts\n",
    "\n",
    "def missing_values_table(df):\n",
    "        # Total missing values\n",
    "        mis_val = df.isnull().sum()\n",
    "        \n",
    "        # Percentage of missing values\n",
    "        mis_val_percent = 100 * df.isnull().sum() / len(df)\n",
    "        \n",
    "        # Make a table with the results\n",
    "        mis_val_table = pd.concat([mis_val, mis_val_percent], axis=1)\n",
    "        \n",
    "        # Rename the columns\n",
    "        mis_val_table_ren_columns = mis_val_table.rename(\n",
    "        columns = {0 : 'Missing Values', 1 : '% of Total Values'})\n",
    "        \n",
    "        # Sort the table by percentage of missing descending\n",
    "        mis_val_table_ren_columns = mis_val_table_ren_columns[\n",
    "            mis_val_table_ren_columns.iloc[:,1] != 0].sort_values(\n",
    "        '% of Total Values', ascending=False).round(1)\n",
    "        \n",
    "        # Print some summary information\n",
    "        print (\"Your selected dataframe has \" + str(df.shape[1]) + \" columns.\\n\"      \n",
    "            \"There are \" + str(mis_val_table_ren_columns.shape[0]) +\n",
    "              \" columns that have missing values.\")\n",
    "        \n",
    "        # Return the dataframe with missing information\n",
    "        return mis_val_table_ren_columns\n",
    "    \n",
    "def check_null(df):\n",
    "    all_cols = df.isnull().sum().sort_values(ascending = False)\n",
    "    null_cols = all_cols[all_cols > 0]\n",
    "    return null_cols\n",
    "\n",
    "def check_null_percent(df):\n",
    "    null_cols = check_null(df)\n",
    "    null_percent = ((null_cols / len(df))* 100).round(2)\n",
    "    return null_percent\n",
    "\n",
    "def index_to_list(df):\n",
    "    index_to_list = df.index.to_list()\n",
    "    return index_to_list\n",
    "\n",
    "def drop_cols(df, cols):\n",
    "    df = df.drop(cols, axis = 1)\n",
    "    return df\n",
    "\n",
    "def drop_threshold_cols(df, threshold):\n",
    "    null_percent = check_null_percent(df)\n",
    "    over_threshold_col = null_percent[null_percent > threshold]\n",
    "    over_threshold_col = index_to_list(over_threshold_col)\n",
    "    df = df.drop(over_threshold_col, axis = 1)\n",
    "    return df\n",
    "\n",
    "def fill_cols_zero(df, cols):\n",
    "    df[cols] = df[cols].fillna(value=0)\n",
    "    return df\n",
    "\n",
    "def fill_cols_mode(df, cols):\n",
    "    for col in cols:\n",
    "        df[col] = df[col].fillna(df[col].mode()[0])\n",
    "    return df\n",
    "\n",
    "def fill_cols_mean(df, cols):\n",
    "    for col in cols:\n",
    "        df[col] = df[col].fillna(df[col].mean())\n",
    "    return df\n",
    "\n",
    "def check_start(df, cols, vals):\n",
    "    lst = []\n",
    "    for col in cols:\n",
    "        for val in vals:\n",
    "            if col.startswith(val):\n",
    "                lst.append(col)\n",
    "    return lst\n",
    "\n",
    "def check_end(df, cols, vals):\n",
    "    lst = []\n",
    "    for col in cols:\n",
    "        for val in vals:\n",
    "            if col.endswith(val):\n",
    "                lst.append(col)\n",
    "    return lst\n",
    "\n",
    "def return_cat_cols(df):\n",
    "    cat_cols = df.select_dtypes(include='object').columns.to_list()\n",
    "    return cat_cols\n",
    "\n",
    "def check_cat_cols(df):\n",
    "    cat_cols = df.select_dtypes(include='object').columns.to_list()\n",
    "    for col in cat_cols:\n",
    "        print('{} has {} levels\\n'.format(col, len(df[col].value_counts(ascending=True))))\n",
    "    "
   ]
  },
  {
   "cell_type": "code",
   "execution_count": 3,
   "metadata": {},
   "outputs": [],
   "source": [
    "path = 'C:\\\\Users\\\\ron.luo\\\\Documents\\\\Default Risk'\n",
    "os.chdir(path)"
   ]
  },
  {
   "cell_type": "code",
   "execution_count": 4,
   "metadata": {},
   "outputs": [],
   "source": [
    "raw_file ='application_train.csv'\n",
    "test_file = 'application_test.csv'\n",
    "source = pd.read_csv(raw_file, header = 0, index_col=False, engine='python')\n",
    "source_test = pd.read_csv(test_file, header = 0, index_col=False, engine='python')"
   ]
  },
  {
   "cell_type": "code",
   "execution_count": 5,
   "metadata": {},
   "outputs": [],
   "source": [
    "df = source.copy()"
   ]
  },
  {
   "cell_type": "markdown",
   "metadata": {},
   "source": [
    "## EDA"
   ]
  },
  {
   "cell_type": "markdown",
   "metadata": {},
   "source": [
    "#### Target Class\n",
    "\n",
    "This is an imbalanced dataset. The ratio of class 1 and class 0 looks like 1:10;"
   ]
  },
  {
   "cell_type": "code",
   "execution_count": 6,
   "metadata": {
    "scrolled": true
   },
   "outputs": [
    {
     "data": {
      "text/plain": [
       "<AxesSubplot:xlabel='TARGET', ylabel='count'>"
      ]
     },
     "execution_count": 6,
     "metadata": {},
     "output_type": "execute_result"
    },
    {
     "data": {
      "image/png": "[encoded data removed]",
      "text/plain": [
       "<Figure size 432x288 with 1 Axes>"
      ]
     },
     "metadata": {
      "needs_background": "light"
     },
     "output_type": "display_data"
    }
   ],
   "source": [
    "sns.countplot(data=df, x='TARGET', palette='mako')"
   ]
  },
  {
   "cell_type": "markdown",
   "metadata": {},
   "source": [
    "#### Missing Values\n",
    "\n",
    "From the table below, we saw that some of the features have a high percentage of missing value.   \n",
    "We are going to use multivariate imputation to fill the missing values in the upcoming part."
   ]
  },
  {
   "cell_type": "code",
   "execution_count": 7,
   "metadata": {
    "scrolled": false
   },
   "outputs": [
    {
     "name": "stdout",
     "output_type": "stream",
     "text": [
      "Your selected dataframe has 122 columns.\n",
      "There are 67 columns that have missing values.\n"
     ]
    },
    {
     "data": {
      "text/html": [
       "<div>\n",
       "<style scoped>\n",
       "    .dataframe tbody tr th:only-of-type {\n",
       "        vertical-align: middle;\n",
       "    }\n",
       "\n",
       "    .dataframe tbody tr th {\n",
       "        vertical-align: top;\n",
       "    }\n",
       "\n",
       "    .dataframe thead th {\n",
       "        text-align: right;\n",
       "    }\n",
       "</style>\n",
       "<table border=\"1\" class=\"dataframe\">\n",
       "  <thead>\n",
       "    <tr style=\"text-align: right;\">\n",
       "      <th></th>\n",
       "      <th>Missing Values</th>\n",
       "      <th>% of Total Values</th>\n",
       "    </tr>\n",
       "  </thead>\n",
       "  <tbody>\n",
       "    <tr>\n",
       "      <th>COMMONAREA_MEDI</th>\n",
       "      <td>214865</td>\n",
       "      <td>69.9</td>\n",
       "    </tr>\n",
       "    <tr>\n",
       "      <th>COMMONAREA_AVG</th>\n",
       "      <td>214865</td>\n",
       "      <td>69.9</td>\n",
       "    </tr>\n",
       "    <tr>\n",
       "      <th>COMMONAREA_MODE</th>\n",
       "      <td>214865</td>\n",
       "      <td>69.9</td>\n",
       "    </tr>\n",
       "    <tr>\n",
       "      <th>NONLIVINGAPARTMENTS_MEDI</th>\n",
       "      <td>213514</td>\n",
       "      <td>69.4</td>\n",
       "    </tr>\n",
       "    <tr>\n",
       "      <th>NONLIVINGAPARTMENTS_MODE</th>\n",
       "      <td>213514</td>\n",
       "      <td>69.4</td>\n",
       "    </tr>\n",
       "    <tr>\n",
       "      <th>...</th>\n",
       "      <td>...</td>\n",
       "      <td>...</td>\n",
       "    </tr>\n",
       "    <tr>\n",
       "      <th>EXT_SOURCE_2</th>\n",
       "      <td>660</td>\n",
       "      <td>0.2</td>\n",
       "    </tr>\n",
       "    <tr>\n",
       "      <th>AMT_GOODS_PRICE</th>\n",
       "      <td>278</td>\n",
       "      <td>0.1</td>\n",
       "    </tr>\n",
       "    <tr>\n",
       "      <th>AMT_ANNUITY</th>\n",
       "      <td>12</td>\n",
       "      <td>0.0</td>\n",
       "    </tr>\n",
       "    <tr>\n",
       "      <th>CNT_FAM_MEMBERS</th>\n",
       "      <td>2</td>\n",
       "      <td>0.0</td>\n",
       "    </tr>\n",
       "    <tr>\n",
       "      <th>DAYS_LAST_PHONE_CHANGE</th>\n",
       "      <td>1</td>\n",
       "      <td>0.0</td>\n",
       "    </tr>\n",
       "  </tbody>\n",
       "</table>\n",
       "<p>67 rows × 2 columns</p>\n",
       "</div>"
      ],
      "text/plain": [
       "                          Missing Values  % of Total Values\n",
       "COMMONAREA_MEDI                   214865               69.9\n",
       "COMMONAREA_AVG                    214865               69.9\n",
       "COMMONAREA_MODE                   214865               69.9\n",
       "NONLIVINGAPARTMENTS_MEDI          213514               69.4\n",
       "NONLIVINGAPARTMENTS_MODE          213514               69.4\n",
       "...                                  ...                ...\n",
       "EXT_SOURCE_2                         660                0.2\n",
       "AMT_GOODS_PRICE                      278                0.1\n",
       "AMT_ANNUITY                           12                0.0\n",
       "CNT_FAM_MEMBERS                        2                0.0\n",
       "DAYS_LAST_PHONE_CHANGE                 1                0.0\n",
       "\n",
       "[67 rows x 2 columns]"
      ]
     },
     "execution_count": 7,
     "metadata": {},
     "output_type": "execute_result"
    }
   ],
   "source": [
    "missing_values_table(df)"
   ]
  },
  {
   "cell_type": "markdown",
   "metadata": {},
   "source": [
    "#### Distribution of continuous values.\n",
    "_The cell below is comment out. Its purpose is to look at the distribution of each continuous feature group by Target._"
   ]
  },
  {
   "cell_type": "code",
   "execution_count": 8,
   "metadata": {
    "scrolled": false
   },
   "outputs": [],
   "source": [
    "# ncols = 3\n",
    "# nrows = 21\n",
    "\n",
    "# ## Draw a graph with 3 cols x 21 rows and size of 40 x 250\n",
    "# fig, axs = plt.subplots(ncols=ncols, nrows=nrows, figsize = (40,250))  \n",
    "\n",
    "# for row in range(nrows):\n",
    "#     for col in range(ncols):\n",
    "#         ax = axs[row][col]\n",
    "#         i = row*ncols + col  #### Go over all the index\n",
    "        \n",
    "#         if i < len(null_list) and df[null_list[i]].dtype != 'object':   ### Check if a column is categorical\n",
    "#             sns.kdeplot(data=df, x=df.loc[(df['TARGET'] == 1), \n",
    "#                 null_list[i]], color = 'orange', shade = True, label = 'Class 1', ax = ax, bw_adjust=3)\n",
    "#             sns.kdeplot(data=df, x=df.loc[(df['TARGET'] == 0), \n",
    "#                        null_list[i]], shade = True, color = 'blueviolet', label = 'Class 0', ax = ax, bw_adjust=5)\n",
    "#             ax.set_title('{}'.format(null_dict[null_list[i]]))"
   ]
  },
  {
   "cell_type": "markdown",
   "metadata": {},
   "source": [
    "By eyeballing the distribution of each continuous variable, we see three of them are very different - **'EXT_SOURCE_1'** and **'EXT_SOURCE_2'**, **'EXT_SOURCE_3'**.     \n",
    "\n",
    "\n",
    "(Turned out that they are important features at the end of this notebook)"
   ]
  },
  {
   "cell_type": "code",
   "execution_count": 9,
   "metadata": {
    "scrolled": true
   },
   "outputs": [
    {
     "data": {
      "text/plain": [
       "<matplotlib.legend.Legend at 0x1eeeb2b19d0>"
      ]
     },
     "execution_count": 9,
     "metadata": {},
     "output_type": "execute_result"
    },
    {
     "data": {
      "image/png": "[encoded data removed]",
      "text/plain": [
       "<Figure size 1080x216 with 3 Axes>"
      ]
     },
     "metadata": {
      "needs_background": "light"
     },
     "output_type": "display_data"
    }
   ],
   "source": [
    "\n",
    "fig, (ax1,ax2, ax3) = plt.subplots(1,3, figsize = (15,3))\n",
    "\n",
    "sns.kdeplot(data=df, x=df.loc[(df['TARGET'] == 1), \n",
    "            'EXT_SOURCE_1'], color = 'orange', shade = True, label = 'Class 1', ax = ax1)\n",
    "sns.kdeplot(data=df, x=df.loc[(df['TARGET'] == 0), \n",
    "            'EXT_SOURCE_1'], color = 'blueviolet', shade = True, label = 'Class 0', ax = ax1)\n",
    "\n",
    "\n",
    "sns.kdeplot(data=df, x=df.loc[(df['TARGET'] == 1), \n",
    "           'EXT_SOURCE_2'], color = 'orange', shade = True, label = 'Class 1', ax = ax2)\n",
    "\n",
    "sns.kdeplot(data=df, x=df.loc[(df['TARGET'] == 0), \n",
    "           'EXT_SOURCE_2'], color = 'blueviolet', shade = True, label = 'Class 0', ax = ax2)\n",
    "\n",
    "sns.kdeplot(data=df, x=df.loc[(df['TARGET'] == 1), \n",
    "           'EXT_SOURCE_3'], color = 'orange', shade = True, label = 'Class 1', ax = ax3)\n",
    "sns.kdeplot(data=df, x=df.loc[(df['TARGET'] == 0), \n",
    "           'EXT_SOURCE_3'], color = 'blueviolet', shade = True, label = 'Class 0', ax = ax3)\n",
    "\n",
    "plt.legend()"
   ]
  },
  {
   "cell_type": "markdown",
   "metadata": {},
   "source": [
    "#### Interesting numbers among the features"
   ]
  },
  {
   "cell_type": "markdown",
   "metadata": {},
   "source": [
    "Looking at the distribution of applicant’s annual income, turn out that the distribution is extremely imbalanced. This graph told us that that are some extreme values in the applicant's annual income. The boxplot below showed us the similar information: the outliner is far away from most of the people."
   ]
  },
  {
   "cell_type": "code",
   "execution_count": 10,
   "metadata": {
    "scrolled": true
   },
   "outputs": [
    {
     "data": {
      "text/plain": [
       "<matplotlib.legend.Legend at 0x1eee7362160>"
      ]
     },
     "execution_count": 10,
     "metadata": {},
     "output_type": "execute_result"
    },
    {
     "data": {
      "image/png": "[encoded data removed]",
      "text/plain": [
       "<Figure size 432x288 with 1 Axes>"
      ]
     },
     "metadata": {
      "needs_background": "light"
     },
     "output_type": "display_data"
    }
   ],
   "source": [
    "sns.kdeplot(data=df, x=df.loc[(df['TARGET'] == 0), \n",
    "           'AMT_INCOME_TOTAL'], color = 'blueviolet', shade = True, label = 'Class 0', bw_adjust=2)\n",
    "sns.kdeplot(data=df, x=df.loc[(df['TARGET'] == 1), \n",
    "           'AMT_INCOME_TOTAL'], color = 'orange', shade = True, label = 'Class 1', bw_adjust=2)\n",
    "plt.legend()"
   ]
  },
  {
   "cell_type": "markdown",
   "metadata": {},
   "source": [
    "**[DAYS_BIRTH]** lookos like indicate the days how manys days an applicant has been born. We need to convert it to **[Age]**, then further into **[Age_Group]**"
   ]
  },
  {
   "cell_type": "code",
   "execution_count": 11,
   "metadata": {},
   "outputs": [
    {
     "data": {
      "text/plain": [
       "<AxesSubplot:xlabel='DAYS_BIRTH', ylabel='Density'>"
      ]
     },
     "execution_count": 11,
     "metadata": {},
     "output_type": "execute_result"
    },
    {
     "data": {
      "image/png": "[encoded data removed]",
      "text/plain": [
       "<Figure size 432x288 with 1 Axes>"
      ]
     },
     "metadata": {
      "needs_background": "light"
     },
     "output_type": "display_data"
    }
   ],
   "source": [
    "sns.kdeplot(data=df, x=df['DAYS_BIRTH'], \n",
    "     color = 'orange', shade = True,  bw_adjust=2)"
   ]
  },
  {
   "cell_type": "code",
   "execution_count": 12,
   "metadata": {},
   "outputs": [],
   "source": [
    "df['DAYS_BIRTH'] = abs(df['DAYS_BIRTH'])\n",
    "df['AGE'] = (df['DAYS_BIRTH'] // 365)\n",
    "bins = [10,20,30,40,50,60,70,80,90]\n",
    "labels = [\"(10,20)\",\"(20,30)\",\"(30,40)\", \"(40,50)\",\"(50,60)\",\"(60,70)\",\"(70,80)\",\"(80,90)\"]\n",
    "df['AGE_GROUP'] = pd.cut(df['AGE'], bins=bins, labels=labels)"
   ]
  },
  {
   "cell_type": "code",
   "execution_count": 13,
   "metadata": {},
   "outputs": [],
   "source": [
    "df = df.drop(['DAYS_BIRTH'], axis=1)"
   ]
  },
  {
   "cell_type": "markdown",
   "metadata": {},
   "source": [
    "It turned out that the default risk decreases by **[Age_Group]**."
   ]
  },
  {
   "cell_type": "code",
   "execution_count": 14,
   "metadata": {},
   "outputs": [
    {
     "data": {
      "text/plain": [
       "<AxesSubplot:xlabel='levels', ylabel='%'>"
      ]
     },
     "execution_count": 14,
     "metadata": {},
     "output_type": "execute_result"
    },
    {
     "data": {
      "image/png": "[encoded data removed]",
      "text/plain": [
       "<Figure size 432x288 with 1 Axes>"
      ]
     },
     "metadata": {
      "needs_background": "light"
     },
     "output_type": "display_data"
    }
   ],
   "source": [
    "target_count = df[(df['TARGET'] == 1)]['AGE_GROUP'].value_counts()  ## AGE_GROUP Value count when Target = 1\n",
    "feature_count = df['AGE_GROUP'].value_counts()  ##AGE_GROUP count in the entire dataset\n",
    "ratio = target_count / feature_count\n",
    "ratio = ratio.to_frame().reset_index()\n",
    "ratio = ratio.rename(columns= {'index': 'levels', 'AGE_GROUP': '%'})\n",
    "sns.barplot(data = ratio, x = 'levels', y = '%', palette = 'mako')"
   ]
  },
  {
   "cell_type": "markdown",
   "metadata": {},
   "source": [
    "Same pattern could be seen by the feature **['REGION_RATING_CLIENT_W_CITY']**. Applicant living in the city rated '3' is more likely to default a loan."
   ]
  },
  {
   "cell_type": "code",
   "execution_count": 15,
   "metadata": {},
   "outputs": [
    {
     "data": {
      "text/plain": [
       "<AxesSubplot:xlabel='levels', ylabel='%'>"
      ]
     },
     "execution_count": 15,
     "metadata": {},
     "output_type": "execute_result"
    },
    {
     "data": {
      "image/png": "[encoded data removed]",
      "text/plain": [
       "<Figure size 432x288 with 1 Axes>"
      ]
     },
     "metadata": {
      "needs_background": "light"
     },
     "output_type": "display_data"
    }
   ],
   "source": [
    "target_count = df[(df['TARGET'] == 1)]['REGION_RATING_CLIENT_W_CITY'].value_counts()  ## AGE_GROUP Value count when Target = 1\n",
    "feature_count = df['REGION_RATING_CLIENT_W_CITY'].value_counts()  ##AGE_GROUP count in the entire dataset\n",
    "ratio = target_count / feature_count\n",
    "ratio = ratio.to_frame().reset_index()\n",
    "ratio = ratio.rename(columns= {'index': 'levels', 'REGION_RATING_CLIENT_W_CITY': '%'})\n",
    "sns.barplot(data = ratio, x = 'levels', y = '%', palette = 'mako')"
   ]
  },
  {
   "cell_type": "markdown",
   "metadata": {},
   "source": [
    "A reversed trend can be seen in the **[EDUCATION_TYPE]**. People with a higher education type will be a safe bet."
   ]
  },
  {
   "cell_type": "code",
   "execution_count": 16,
   "metadata": {},
   "outputs": [
    {
     "data": {
      "text/plain": [
       "<AxesSubplot:xlabel='levels', ylabel='%'>"
      ]
     },
     "execution_count": 16,
     "metadata": {},
     "output_type": "execute_result"
    },
    {
     "data": {
      "image/png": "[encoded data removed]",
      "text/plain": [
       "<Figure size 1080x144 with 1 Axes>"
      ]
     },
     "metadata": {
      "needs_background": "light"
     },
     "output_type": "display_data"
    }
   ],
   "source": [
    "target_count = df[(df['TARGET'] == 1)]['NAME_EDUCATION_TYPE'].value_counts()  ## AGE_GROUP Value count when Target = 1\n",
    "feature_count = df['NAME_EDUCATION_TYPE'].value_counts()  ##AGE_GROUP count in the entire dataset\n",
    "fig, ax = plt.subplots(figsize = (15, 2))\n",
    "ratio = (target_count / feature_count).sort_values(ascending = True)\n",
    "ratio = ratio.to_frame().reset_index()\n",
    "ratio = ratio.rename(columns= {'index': 'levels', 'NAME_EDUCATION_TYPE': '%'})\n",
    "sns.barplot(data = ratio, x = 'levels', y = '%', palette = 'mako')"
   ]
  },
  {
   "cell_type": "markdown",
   "metadata": {},
   "source": [
    "Looking at **'DAY_EMPLOYED'**, the distribution is strange. A lot of people have a value of **365243**, but other than this all people have a negative lower than **-200**."
   ]
  },
  {
   "cell_type": "code",
   "execution_count": 17,
   "metadata": {
    "scrolled": false
   },
   "outputs": [
    {
     "data": {
      "text/plain": [
       "<matplotlib.legend.Legend at 0x1eee7813a60>"
      ]
     },
     "execution_count": 17,
     "metadata": {},
     "output_type": "execute_result"
    },
    {
     "data": {
      "image/png": "[encoded data removed]",
      "text/plain": [
       "<Figure size 432x288 with 1 Axes>"
      ]
     },
     "metadata": {
      "needs_background": "light"
     },
     "output_type": "display_data"
    }
   ],
   "source": [
    "df['DAYS_EMPLOYED'] = abs(df['DAYS_EMPLOYED'])\n",
    "sns.kdeplot(data=df, x=df.loc[(df['TARGET'] == 0), \n",
    "           'DAYS_EMPLOYED'], color = 'blueviolet', shade = True, label = 'Class 0', legend=True, bw_adjust=2)\n",
    "sns.kdeplot(data=df, x=df.loc[(df['TARGET'] == 1), \n",
    "           'DAYS_EMPLOYED'], color = 'orange', shade = True, label = 'Class 1', legend=True, bw_adjust=2)\n",
    "plt.legend()"
   ]
  },
  {
   "cell_type": "code",
   "execution_count": 18,
   "metadata": {},
   "outputs": [],
   "source": [
    "df['DAYS_EMPLOYED_CLASS'] = np.where(df['DAYS_EMPLOYED']!= 365243, 1, 0)"
   ]
  },
  {
   "cell_type": "code",
   "execution_count": 19,
   "metadata": {},
   "outputs": [
    {
     "data": {
      "text/plain": [
       "<AxesSubplot:xlabel='levels', ylabel='%'>"
      ]
     },
     "execution_count": 19,
     "metadata": {},
     "output_type": "execute_result"
    },
    {
     "data": {
      "image/png": "[encoded data removed]",
      "text/plain": [
       "<Figure size 432x288 with 1 Axes>"
      ]
     },
     "metadata": {
      "needs_background": "light"
     },
     "output_type": "display_data"
    }
   ],
   "source": [
    "target_count = df[(df['TARGET'] == 1)]['DAYS_EMPLOYED_CLASS'].value_counts()  ## AGE_GROUP Value count when Target = 1\n",
    "feature_count = df['DAYS_EMPLOYED_CLASS'].value_counts()  ##AGE_GROUP count in the entire dataset\n",
    "ratio = target_count / feature_count\n",
    "ratio = ratio.to_frame().reset_index()\n",
    "ratio = ratio.rename(columns= {'index': 'levels', 'DAYS_EMPLOYED_CLASS': '%'})\n",
    "sns.barplot(data = ratio, x = 'levels', y = '%', palette = 'mako')"
   ]
  },
  {
   "cell_type": "markdown",
   "metadata": {},
   "source": [
    "By using the barplot, it turned out that those having an extreme value are more likely to default a loan. "
   ]
  },
  {
   "cell_type": "markdown",
   "metadata": {},
   "source": [
    "### 1.3 Feature Enginnering"
   ]
  },
  {
   "cell_type": "markdown",
   "metadata": {},
   "source": [
    "From EDA, we have already created two new features: **['AGE_GROUP']** and **['DAYS_EMPLOYED_CLASS']**. And we are going to create more in this part. "
   ]
  },
  {
   "cell_type": "markdown",
   "metadata": {},
   "source": [
    "**[Total Document Received]**: columns start with 'FLAG_DOCUMENT' means if an applicant submit a document. We are going to sum these columns to get the total number of document received."
   ]
  },
  {
   "cell_type": "code",
   "execution_count": 20,
   "metadata": {},
   "outputs": [],
   "source": [
    "DOC_cols = check_start(df,df.columns,[\"FLAG_DOCUMENT\"])\n",
    "df['TOTAL_DOC'] = df[DOC_cols].sum(axis=1)"
   ]
  },
  {
   "cell_type": "markdown",
   "metadata": {},
   "source": [
    "**[Total Query]**: columns start with \"AMT_REQ_CREDIT_BUREAU\" means how many query an applicant send. We are going to sum these as well."
   ]
  },
  {
   "cell_type": "code",
   "execution_count": 21,
   "metadata": {},
   "outputs": [],
   "source": [
    "QUERY_cols = check_start(df,df.columns,[\"AMT_REQ_CREDIT_BUREAU\"])\n",
    "df['TOTAL_QUERY'] = df[QUERY_cols].sum(axis=1)"
   ]
  },
  {
   "cell_type": "markdown",
   "metadata": {},
   "source": [
    "**[Total Contact]**: we are going to sum how many contact methods the applicant provided"
   ]
  },
  {
   "cell_type": "code",
   "execution_count": 22,
   "metadata": {},
   "outputs": [],
   "source": [
    "CONTACT_cols = check_end(df,df.columns,[\"PHONE\",\"MOBILE\",\"EMAIL\"])\n",
    "df['TOTAL_CONTACT'] = df[CONTACT_cols].sum(axis=1)"
   ]
  },
  {
   "cell_type": "markdown",
   "metadata": {},
   "source": [
    "**[Social Circle Default Total]**: we are going to check the number that how many people in the applicant's social circle default the loan."
   ]
  },
  {
   "cell_type": "code",
   "execution_count": 23,
   "metadata": {},
   "outputs": [],
   "source": [
    "CIRCLE_cols =  check_end(df,df.columns,[\"CIRCLE\"])\n",
    "df['CIRCLE'] = df[CIRCLE_cols].sum(axis = 1)"
   ]
  },
  {
   "cell_type": "markdown",
   "metadata": {},
   "source": [
    "### Handle Missing Values  \n",
    "\n",
    "\n",
    "**Note**: though some algorhithms can handle or ignore missing values, it is in general a good idea to make your data as clean as possible."
   ]
  },
  {
   "cell_type": "code",
   "execution_count": 25,
   "metadata": {},
   "outputs": [],
   "source": [
    "## Comment out for faster speed\n",
    "# fig, (ax1,ax2, ax3) = plt.subplots(1,3, figsize = (15,3))\n",
    "\n",
    "# sns.kdeplot(data=df, x=df.loc[(df['TARGET'] == 1), \n",
    "#             'EXT_SOURCE_1'], color = 'orange', shade = True, label = 'Class 1', ax = ax1, bw_adjust=2)\n",
    "# sns.kdeplot(data=df, x=df.loc[(df['TARGET'] == 0), \n",
    "#             'EXT_SOURCE_1'], color = 'blueviolet', shade = True, label = 'Class 0', ax = ax1, bw_adjust=2)\n",
    "\n",
    "\n",
    "# sns.kdeplot(data=df, x=df.loc[(df['TARGET'] == 1), \n",
    "#            'EXT_SOURCE_2'], color = 'orange', shade = True, label = 'Class 1', ax = ax2, bw_adjust=2)\n",
    "\n",
    "# sns.kdeplot(data=df, x=df.loc[(df['TARGET'] == 0), \n",
    "#            'EXT_SOURCE_2'], color = 'blueviolet', shade = True, label = 'Class 0', ax = ax2, bw_adjust=2)\n",
    "\n",
    "# sns.kdeplot(data=df, x=df.loc[(df['TARGET'] == 1), \n",
    "#            'EXT_SOURCE_3'], color = 'orange', shade = True, label = 'Class 1', ax = ax3, bw_adjust=2)\n",
    "# sns.kdeplot(data=df, x=df.loc[(df['TARGET'] == 0), \n",
    "#            'EXT_SOURCE_3'], color = 'blueviolet', shade = True, label = 'Class 0', ax = ax3, bw_adjust=2)\n",
    "\n",
    "# plt.legend()"
   ]
  },
  {
   "cell_type": "markdown",
   "metadata": {},
   "source": [
    "**Fill missing values using MICE**"
   ]
  },
  {
   "cell_type": "code",
   "execution_count": 26,
   "metadata": {},
   "outputs": [],
   "source": [
    "# Comment out for faster \n",
    "# df_column_target_mean = df2.copy()"
   ]
  },
  {
   "cell_type": "code",
   "execution_count": 27,
   "metadata": {},
   "outputs": [],
   "source": [
    "# Comment out for faster \n",
    "# TARGET_classes = [0,1]\n",
    "# EXT_cols"
   ]
  },
  {
   "cell_type": "code",
   "execution_count": 25,
   "metadata": {},
   "outputs": [],
   "source": [
    "df3 = df[['TARGET', 'EXT_SOURCE_1', 'EXT_SOURCE_2', 'EXT_SOURCE_3']]"
   ]
  },
  {
   "cell_type": "code",
   "execution_count": 28,
   "metadata": {},
   "outputs": [],
   "source": [
    "# Comment out for faster \n",
    "# for t_class in TARGET_classes:\n",
    "#     for col in EXT_cols: \n",
    "#         df_column_target_mean.loc[(df_column_target_mean['TARGET'] == t_class), col] = df_column_target_mean.loc[(df_column_target_mean['TARGET'] == t_class), col].fillna(df2[df2['TARGET'] == t_class][col].mean())"
   ]
  },
  {
   "cell_type": "code",
   "execution_count": 26,
   "metadata": {},
   "outputs": [],
   "source": [
    "df_mice_mean = df3.copy()\n",
    "imp_mean = IterativeImputer(random_state=20,max_iter = 250)\n",
    "imp_mean.fit(df_mice_mean)\n",
    "k = imp_mean.transform(df_mice_mean)\n",
    "k_pd = pd.DataFrame(k, columns = df3.columns)"
   ]
  },
  {
   "cell_type": "code",
   "execution_count": 29,
   "metadata": {},
   "outputs": [],
   "source": [
    "## Comment out for faster speed\n",
    "# fig, (ax1, ax2, ax3) = plt.subplots(nrows = 1, ncols = 3, figsize = (15, 3))\n",
    "# sns.kdeplot(data=df_column_target_mean, x=df_column_target_mean.loc[(df_column_target_mean['TARGET'] == 1), \n",
    "#             'EXT_SOURCE_1'], color = 'orange', shade = True, label = 'Class 1', ax = ax1)\n",
    "# sns.kdeplot(data=df_column_target_mean, x=df_column_target_mean.loc[(df_column_target_mean['TARGET'] == 0), \n",
    "#             'EXT_SOURCE_1'], color = 'blueviolet', shade = True, label = 'Class 0', ax = ax1)\n",
    "\n",
    "# sns.kdeplot(data=df_column_target_mean, x=df_column_target_mean.loc[(df_column_target_mean['TARGET'] == 1), \n",
    "#             'EXT_SOURCE_2'], color = 'orange', shade = True, label = 'Class 1', ax = ax2)\n",
    "# sns.kdeplot(data=df_column_target_mean, x=df_column_target_mean.loc[(df_column_target_mean['TARGET'] == 0), \n",
    "#             'EXT_SOURCE_2'], color = 'blueviolet', shade = True, label = 'Class 0', ax = ax2)\n",
    "\n",
    "# sns.kdeplot(data=df_column_target_mean, x=df_column_target_mean.loc[(df_column_target_mean['TARGET'] == 1), \n",
    "#             'EXT_SOURCE_3'], color = 'orange', shade = True, label = 'Class 1', ax= ax3)\n",
    "# sns.kdeplot(data=df_column_target_mean, x=df_column_target_mean.loc[(df_column_target_mean['TARGET'] == 0), \n",
    "#             'EXT_SOURCE_3'], color = 'blueviolet', shade = True, label = 'Class 0', ax = ax3)"
   ]
  },
  {
   "cell_type": "code",
   "execution_count": 27,
   "metadata": {},
   "outputs": [
    {
     "data": {
      "text/plain": [
       "<AxesSubplot:xlabel='EXT_SOURCE_3', ylabel='Density'>"
      ]
     },
     "execution_count": 27,
     "metadata": {},
     "output_type": "execute_result"
    },
    {
     "data": {
      "image/png": "[encoded data removed]",
      "text/plain": [
       "<Figure size 1080x216 with 3 Axes>"
      ]
     },
     "metadata": {
      "needs_background": "light"
     },
     "output_type": "display_data"
    }
   ],
   "source": [
    "fig, (ax1, ax2, ax3) = plt.subplots(nrows = 1, ncols = 3, figsize = (15, 3))\n",
    "sns.kdeplot(data=k_pd, x=k_pd.loc[(k_pd['TARGET'] == 1), \n",
    "            'EXT_SOURCE_1'], color = 'orange', shade = True, label = 'Class 1', ax = ax1)\n",
    "sns.kdeplot(data=k_pd, x=k_pd.loc[(k_pd['TARGET'] == 0), \n",
    "            'EXT_SOURCE_1'], color = 'blueviolet', shade = True, label = 'Class 0', ax = ax1)\n",
    "\n",
    "sns.kdeplot(data=k_pd, x=k_pd.loc[(k_pd['TARGET'] == 1), \n",
    "            'EXT_SOURCE_2'], color = 'orange', shade = True, label = 'Class 1', ax = ax2)\n",
    "sns.kdeplot(data=k_pd, x=k_pd.loc[(k_pd['TARGET'] == 0), \n",
    "            'EXT_SOURCE_2'], color = 'blueviolet', shade = True, label = 'Class 0', ax = ax2)\n",
    "\n",
    "sns.kdeplot(data=k_pd, x=k_pd.loc[(k_pd['TARGET'] == 1), \n",
    "            'EXT_SOURCE_3'], color = 'orange', shade = True, label = 'Class 1', ax= ax3)\n",
    "sns.kdeplot(data=k_pd, x=k_pd.loc[(k_pd['TARGET'] == 0), \n",
    "            'EXT_SOURCE_3'], color = 'blueviolet', shade = True, label = 'Class 0', ax = ax3)"
   ]
  },
  {
   "cell_type": "markdown",
   "metadata": {},
   "source": [
    "##### - 1.1.2 Fill each column accordingly"
   ]
  },
  {
   "cell_type": "markdown",
   "metadata": {},
   "source": [
    "- Some feautes have a Null value indicating it is zero. For these features, we fill 0"
   ]
  },
  {
   "cell_type": "code",
   "execution_count": 24,
   "metadata": {},
   "outputs": [],
   "source": [
    "from sklearn.experimental import enable_iterative_imputer\n",
    "from sklearn.impute import IterativeImputer"
   ]
  },
  {
   "cell_type": "code",
   "execution_count": 28,
   "metadata": {},
   "outputs": [],
   "source": [
    "df_mice = df.copy()\n",
    "MEDI_cols = check_end(df_mice, df_mice.columns, ['MEDI'])\n",
    "AVG_cols = check_end(df_mice, df_mice.columns, ['AVG'])\n",
    "CIRCLE_cols = check_end(df_mice, df_mice, ['CIRCLE'])\n",
    "EXT_cols = check_start(df_mice, df_mice.columns, ['EXT'])\n",
    "AMT_cols = check_start(df_mice, df_mice.columns, ['AMT'])\n",
    "MODE_cols =  check_end(df_mice, df_mice.columns, ['MODE'])"
   ]
  },
  {
   "cell_type": "code",
   "execution_count": 29,
   "metadata": {},
   "outputs": [],
   "source": [
    "for col in df[MODE_cols]:\n",
    "    if df[col].dtypes == 'object':\n",
    "        MODE_cols.remove(col)"
   ]
  },
  {
   "cell_type": "code",
   "execution_count": 30,
   "metadata": {},
   "outputs": [],
   "source": [
    "All_cols = [MEDI_cols, AVG_cols, MODE_cols, CIRCLE_cols, EXT_cols, AMT_cols ]"
   ]
  },
  {
   "cell_type": "code",
   "execution_count": 31,
   "metadata": {},
   "outputs": [],
   "source": [
    "df_temp = df.copy()"
   ]
  },
  {
   "cell_type": "code",
   "execution_count": 32,
   "metadata": {},
   "outputs": [],
   "source": [
    "### This cell will take a while to process\n",
    "for cols in All_cols:\n",
    "    imp_mean = IterativeImputer(random_state=20,max_iter = 250)\n",
    "    imp_mean.fit(df_mice[cols])\n",
    "    df_mice_temp = imp_mean.transform(df_mice[cols])\n",
    "    df_mice_temp = pd.DataFrame(df_mice_temp, columns = cols)\n",
    "    df_temp[cols] = df_mice_temp"
   ]
  },
  {
   "cell_type": "code",
   "execution_count": 33,
   "metadata": {},
   "outputs": [],
   "source": [
    "df = df_temp.copy()"
   ]
  },
  {
   "cell_type": "code",
   "execution_count": 34,
   "metadata": {
    "scrolled": true
   },
   "outputs": [],
   "source": [
    "\n",
    "## Comment out for faster speed\n",
    "\n",
    "fig, (ax1,ax2, ax3) = plt.subplots(1,3, figsize = (15,3))\n",
    "\n",
    "sns.kdeplot(data=df, x=df.loc[(df['TARGET'] == 1), \n",
    "            'EXT_SOURCE_1'], color = 'orange', shade = True, label = 'Class 1', ax = ax1, bw_adjust=2)\n",
    "sns.kdeplot(data=df, x=df.loc[(df['TARGET'] == 0), \n",
    "            'EXT_SOURCE_1'], color = 'blueviolet', shade = True, label = 'Class 0', ax = ax1, bw_adjust=2)\n",
    "\n",
    "\n",
    "sns.kdeplot(data=df, x=df.loc[(df['TARGET'] == 1), \n",
    "           'EXT_SOURCE_2'], color = 'orange', shade = True, label = 'Class 1', ax = ax2, bw_adjust=2)\n",
    "\n",
    "sns.kdeplot(data=df, x=df.loc[(df['TARGET'] == 0), \n",
    "           'EXT_SOURCE_2'], color = 'blueviolet', shade = True, label = 'Class 0', ax = ax2, bw_adjust=2)\n",
    "\n",
    "sns.kdeplot(data=df, x=df.loc[(df['TARGET'] == 1), \n",
    "           'EXT_SOURCE_3'], color = 'orange', shade = True, label = 'Class 1', ax = ax3, bw_adjust=2)\n",
    "sns.kdeplot(data=df, x=df.loc[(df['TARGET'] == 0), \n",
    "           'EXT_SOURCE_3'], color = 'blueviolet', shade = True, label = 'Class 0', ax = ax3, bw_adjust=2)\n",
    "\n",
    "plt.legend()"
   ]
  },
  {
   "cell_type": "code",
   "execution_count": 35,
   "metadata": {
    "scrolled": true
   },
   "outputs": [
    {
     "name": "stdout",
     "output_type": "stream",
     "text": [
      "Your selected dataframe has 128 columns.\n",
      "There are 9 columns that have missing values.\n"
     ]
    }
   ],
   "source": [
    "# missing_values_table(df) ## The remaining columns still have missing values. We are going to drop them for now\n",
    "other_cols = missing_values_table(df).index.to_list()\n",
    "df = df.drop(other_cols, axis = 1)"
   ]
  },
  {
   "cell_type": "markdown",
   "metadata": {},
   "source": [
    "#### 1.2 Handle Categorical Features"
   ]
  },
  {
   "cell_type": "markdown",
   "metadata": {},
   "source": [
    "Check how many levels each categorical feature has"
   ]
  },
  {
   "cell_type": "code",
   "execution_count": 37,
   "metadata": {},
   "outputs": [],
   "source": [
    "### Comment out for test\n",
    "\n",
    "\n",
    "# Based on experiement, MICE perform best when TARGET is included\n",
    "# for cols in All_cols:\n",
    "#     cols.append('TARGET')"
   ]
  },
  {
   "cell_type": "code",
   "execution_count": 36,
   "metadata": {
    "scrolled": true
   },
   "outputs": [
    {
     "name": "stdout",
     "output_type": "stream",
     "text": [
      "NAME_CONTRACT_TYPE has 2 levels\n",
      "\n",
      "CODE_GENDER has 3 levels\n",
      "\n",
      "FLAG_OWN_CAR has 2 levels\n",
      "\n",
      "FLAG_OWN_REALTY has 2 levels\n",
      "\n",
      "NAME_INCOME_TYPE has 8 levels\n",
      "\n",
      "NAME_EDUCATION_TYPE has 5 levels\n",
      "\n",
      "NAME_FAMILY_STATUS has 6 levels\n",
      "\n",
      "NAME_HOUSING_TYPE has 6 levels\n",
      "\n",
      "WEEKDAY_APPR_PROCESS_START has 7 levels\n",
      "\n",
      "ORGANIZATION_TYPE has 58 levels\n",
      "\n"
     ]
    }
   ],
   "source": [
    "check_cat_cols(df)"
   ]
  },
  {
   "cell_type": "code",
   "execution_count": 37,
   "metadata": {},
   "outputs": [],
   "source": [
    "from sklearn.preprocessing import LabelEncoder\n",
    "labelencoder = LabelEncoder()\n",
    "df['OWN_CAR'] = labelencoder.fit_transform(df['FLAG_OWN_CAR'])\n",
    "df['OWN_REALTY'] = labelencoder.fit_transform(df['FLAG_OWN_REALTY'])\n",
    "df['CONTRACT_TYPE'] = labelencoder.fit_transform(df['NAME_CONTRACT_TYPE'])\n",
    "df['GENDER'] = labelencoder.fit_transform(df['CODE_GENDER'])\n",
    "df = df.drop(['FLAG_OWN_CAR','FLAG_OWN_REALTY','NAME_CONTRACT_TYPE','CODE_GENDER'], axis = 1)"
   ]
  },
  {
   "cell_type": "code",
   "execution_count": 38,
   "metadata": {},
   "outputs": [],
   "source": [
    "cat_cols = df.select_dtypes(include = ['category','object']).columns.to_list()"
   ]
  },
  {
   "cell_type": "code",
   "execution_count": 39,
   "metadata": {},
   "outputs": [
    {
     "data": {
      "text/plain": [
       "NAME_INCOME_TYPE              0\n",
       "NAME_EDUCATION_TYPE           0\n",
       "NAME_FAMILY_STATUS            0\n",
       "NAME_HOUSING_TYPE             0\n",
       "WEEKDAY_APPR_PROCESS_START    0\n",
       "ORGANIZATION_TYPE             0\n",
       "AGE_GROUP                     0\n",
       "dtype: int64"
      ]
     },
     "execution_count": 39,
     "metadata": {},
     "output_type": "execute_result"
    }
   ],
   "source": [
    "df[cat_cols].isnull().sum()"
   ]
  },
  {
   "cell_type": "code",
   "execution_count": 40,
   "metadata": {},
   "outputs": [],
   "source": [
    "from sklearn.preprocessing import OneHotEncoder\n",
    "encoder = OneHotEncoder()\n",
    "cols_encoded = encoder.fit_transform(df[cat_cols])\n",
    "encode_cols = encoder.get_feature_names(cat_cols)\n",
    "enc_df = pd.DataFrame(cols_encoded.toarray(), columns = encode_cols )\n",
    "frames = [df, enc_df]\n",
    "df = pd.concat(frames, axis = 1, ignore_index=False)\n"
   ]
  },
  {
   "cell_type": "code",
   "execution_count": 41,
   "metadata": {},
   "outputs": [],
   "source": [
    "final_df = df.drop(cat_cols, axis = 1).copy()"
   ]
  },
  {
   "cell_type": "code",
   "execution_count": 43,
   "metadata": {},
   "outputs": [
    {
     "name": "stdout",
     "output_type": "stream",
     "text": [
      "Your selected dataframe has 119 columns.\n",
      "There are 0 columns that have missing values.\n"
     ]
    },
    {
     "data": {
      "text/html": [
       "<div>\n",
       "<style scoped>\n",
       "    .dataframe tbody tr th:only-of-type {\n",
       "        vertical-align: middle;\n",
       "    }\n",
       "\n",
       "    .dataframe tbody tr th {\n",
       "        vertical-align: top;\n",
       "    }\n",
       "\n",
       "    .dataframe thead th {\n",
       "        text-align: right;\n",
       "    }\n",
       "</style>\n",
       "<table border=\"1\" class=\"dataframe\">\n",
       "  <thead>\n",
       "    <tr style=\"text-align: right;\">\n",
       "      <th></th>\n",
       "      <th>Missing Values</th>\n",
       "      <th>% of Total Values</th>\n",
       "    </tr>\n",
       "  </thead>\n",
       "  <tbody>\n",
       "  </tbody>\n",
       "</table>\n",
       "</div>"
      ],
      "text/plain": [
       "Empty DataFrame\n",
       "Columns: [Missing Values, % of Total Values]\n",
       "Index: []"
      ]
     },
     "execution_count": 43,
     "metadata": {},
     "output_type": "execute_result"
    }
   ],
   "source": [
    "missing_values_table(df)"
   ]
  },
  {
   "cell_type": "markdown",
   "metadata": {},
   "source": [
    "### Preparation before Algorithms Selection"
   ]
  },
  {
   "cell_type": "markdown",
   "metadata": {},
   "source": [
    "##### Downsampling"
   ]
  },
  {
   "cell_type": "code",
   "execution_count": 42,
   "metadata": {},
   "outputs": [
    {
     "name": "stdout",
     "output_type": "stream",
     "text": [
      "Do you want to perform downsampling (int / no): no\n"
     ]
    }
   ],
   "source": [
    "ratio_num = input('Do you want to perform downsampling (int / no): ')\n",
    "if ratio_num != 'no':\n",
    "    ratio = int(ratio_num)\n",
    "    neg = final_df[final_df['TARGET']== 0]\n",
    "    target_len = len(final_df[final_df['TARGET'] == 1])\n",
    "    df_neg_cut = neg[0: round((ratio * target_len))]\n",
    "    df_true = final_df[final_df['TARGET']== 1]\n",
    "    cut_df = pd.concat([df_neg_cut, df_true], ignore_index=True)\n",
    "    df = cut_df.copy()\n",
    "else:\n",
    "    df = final_df.copy()"
   ]
  },
  {
   "cell_type": "markdown",
   "metadata": {},
   "source": [
    "##### Reduce memeory usage"
   ]
  },
  {
   "cell_type": "code",
   "execution_count": 43,
   "metadata": {},
   "outputs": [],
   "source": [
    "def reduce_mem_usage(df, verbose=True):\n",
    "    numerics = ['int8','int16', 'int32', 'int64', 'float16', 'float32', 'float64']\n",
    "    start_mem = df.memory_usage().sum() / 1024**2    \n",
    "    for col in df.columns:\n",
    "        col_type = df[col].dtypes\n",
    "        if col_type in numerics:\n",
    "            c_min = df[col].min()\n",
    "            c_max = df[col].max()\n",
    "            if str(col_type)[:3] == 'int':\n",
    "                if c_min > np.iinfo(np.int8).min and c_max < np.iinfo(np.int8).max:\n",
    "                    df[col] = df[col].astype(np.int8)\n",
    "                elif c_min > np.iinfo(np.int16).min and c_max < np.iinfo(np.int16).max:\n",
    "                    df[col] = df[col].astype(np.int16)\n",
    "                elif c_min > np.iinfo(np.int32).min and c_max < np.iinfo(np.int32).max:\n",
    "                    df[col] = df[col].astype(np.int32)\n",
    "                elif c_min > np.iinfo(np.int64).min and c_max < np.iinfo(np.int64).max:\n",
    "                    df[col] = df[col].astype(np.int64)  \n",
    "            else:\n",
    "                if c_min > np.finfo(np.float16).min and c_max < np.finfo(np.float16).max:\n",
    "                    df[col] = df[col].astype(np.float16)\n",
    "                elif c_min > np.finfo(np.float32).min and c_max < np.finfo(np.float32).max:\n",
    "                    df[col] = df[col].astype(np.float32)\n",
    "                else:\n",
    "                    df[col] = df[col].astype(np.float64)    \n",
    "    end_mem = df.memory_usage().sum() / 1024**2\n",
    "    if verbose: print('Mem. usage decreased to {:5.2f} Mb ({:.1f}% reduction)'.format(end_mem, 100 * (start_mem - end_mem) / start_mem))\n",
    "    return df"
   ]
  },
  {
   "cell_type": "code",
   "execution_count": 44,
   "metadata": {
    "scrolled": true
   },
   "outputs": [
    {
     "name": "stdout",
     "output_type": "stream",
     "text": [
      "Mem. usage decreased to 112.32 Mb (76.7% reduction)\n"
     ]
    }
   ],
   "source": [
    "df = reduce_mem_usage(df)"
   ]
  },
  {
   "cell_type": "markdown",
   "metadata": {},
   "source": [
    "### Algorithms Selection\n",
    "\n",
    "Even though Kaggle challenge has two datasets - train, test, we can't use the test dataset because it is for submission (no target column). Therefore, for now we split this dataset into another train, test dataset. \n",
    "\n",
    "\n",
    "\n",
    "- Split the dataset into train / test.\n",
    "- Perform Cross validation on Train Dataset\n",
    "- Select the proper algo from the CV result\n",
    "- Test the algo on the test dataset.\n",
    "- Tune parameter to achieve target metrics. "
   ]
  },
  {
   "cell_type": "markdown",
   "metadata": {},
   "source": [
    "##### Split our dataset into train dataset and validation dataset."
   ]
  },
  {
   "cell_type": "code",
   "execution_count": 46,
   "metadata": {},
   "outputs": [],
   "source": [
    "from sklearn.model_selection import train_test_split\n",
    "\n",
    "X = df.iloc[:,2:].values\n",
    "y = df.loc[:,'TARGET'].values\n",
    "X_train, X_test, y_train, y_test = train_test_split(X, y, test_size = 0.3, random_state=0)"
   ]
  },
  {
   "cell_type": "markdown",
   "metadata": {},
   "source": [
    "##### Evaluating algorithms"
   ]
  },
  {
   "cell_type": "code",
   "execution_count": 47,
   "metadata": {
    "scrolled": true
   },
   "outputs": [],
   "source": [
    "### Algorthims\n",
    "from sklearn.ensemble import RandomForestClassifier\n",
    "from sklearn.tree import DecisionTreeClassifier\n",
    "from sklearn.linear_model import LogisticRegression\n",
    "from sklearn.naive_bayes import GaussianNB\n",
    "from lightgbm import LGBMClassifier\n",
    "from sklearn.dummy import DummyClassifier\n",
    "\n",
    "forest = RandomForestClassifier(n_estimators = 100, criterion = 'entropy', random_state = 42) \n",
    "gauss = GaussianNB()\n",
    "tree = DecisionTreeClassifier(criterion = 'entropy', max_depth = 150, random_state = 42)\n",
    "LGBM = LGBMClassifier(objective='binary')\n",
    "dummy_clf = DummyClassifier(strategy=\"most_frequent\")"
   ]
  },
  {
   "cell_type": "code",
   "execution_count": 49,
   "metadata": {},
   "outputs": [],
   "source": [
    "from sklearn.model_selection import StratifiedKFold\n",
    "cv = StratifiedKFold(n_splits=10, shuffle = True)"
   ]
  },
  {
   "cell_type": "code",
   "execution_count": 50,
   "metadata": {},
   "outputs": [],
   "source": [
    "from sklearn.model_selection import cross_val_predict\n",
    "from sklearn.metrics import roc_curve, roc_auc_score"
   ]
  },
  {
   "cell_type": "markdown",
   "metadata": {},
   "source": [
    "We ran each algorithms using stratified kfold. From the graph below we see that LGBM has the highest roc_auc score."
   ]
  },
  {
   "cell_type": "code",
   "execution_count": 53,
   "metadata": {},
   "outputs": [
    {
     "data": {
      "image/png": "[encoded data removed]",
      "text/plain": [
       "<Figure size 504x504 with 1 Axes>"
      ]
     },
     "metadata": {
      "needs_background": "light"
     },
     "output_type": "display_data"
    }
   ],
   "source": [
    "import matplotlib.pyplot as plt\n",
    "\n",
    "plt.figure(figsize = (7,7)) \n",
    "for model in models:\n",
    "    y_probas = cross_val_predict(model, X_train, y_train, cv=cv, method = \"predict_proba\")\n",
    "    y_scores = y_probas[:,1]\n",
    "    fpr, tpr, threshold = roc_curve(y_train, y_scores)\n",
    "    roc_auc = roc_auc_score(y_train, y_scores)\n",
    "    plt.plot(fpr,tpr, label = '{} - AUC {:.2f}'.format(models_dict[model], roc_auc))\n",
    "    plt.xlabel('Fales Positive Rate')\n",
    "    plt.ylabel('True Positive Rate (Recall)')\n",
    "    plt.legend(loc=\"lower right\")\n",
    "plt.show()"
   ]
  },
  {
   "cell_type": "markdown",
   "metadata": {},
   "source": [
    "#####  LGBM Parameter Tuning"
   ]
  },
  {
   "cell_type": "code",
   "execution_count": 101,
   "metadata": {},
   "outputs": [],
   "source": [
    "from sklearn.model_selection import RandomizedSearchCV\n",
    "from lightgbm import LGBMClassifier"
   ]
  },
  {
   "cell_type": "code",
   "execution_count": 102,
   "metadata": {},
   "outputs": [],
   "source": [
    "LGBM = LGBMClassifier(objective = 'binary', boosting_type= 'gbdt') ## Default LGBM without tuning"
   ]
  },
  {
   "cell_type": "code",
   "execution_count": 103,
   "metadata": {},
   "outputs": [],
   "source": [
    "from scipy.stats import randint as sp_randint\n",
    "from scipy.stats import uniform as sp_uniform\n",
    "param_test ={'num_leaves': sp_randint(6, 50), \n",
    "             'learning_rate': np.linspace(0, 1, num=100),\n",
    "             'min_child_samples': sp_randint(100, 500), \n",
    "             'min_child_weight': [1e-5, 1e-3, 1e-2, 1e-1, 1, 1e1, 1e2, 1e3, 1e4],\n",
    "#              'subsample': sp_uniform(loc=0.2, scale=0.8), \n",
    "             'subsample': np.linspace(0,1,100),\n",
    "             'colsample_bytree': sp_uniform(loc=0.4, scale=0.6),\n",
    "             'reg_alpha': [0, 1e-1, 1, 2, 5, 7, 10, 50, 100],\n",
    "             'reg_lambda': [0, 1e-1, 1, 5, 10, 20, 50, 100]}"
   ]
  },
  {
   "cell_type": "code",
   "execution_count": 104,
   "metadata": {},
   "outputs": [],
   "source": [
    "grid = RandomizedSearchCV(LGBM, param_test,\n",
    "                    verbose=0,\n",
    "                    cv=3,\n",
    "                    n_jobs=2,\n",
    "                    scoring='roc_auc')"
   ]
  },
  {
   "cell_type": "code",
   "execution_count": 105,
   "metadata": {},
   "outputs": [],
   "source": [
    "grid.fit(X_train, y_train)\n",
    "best_param = grid.best_params_"
   ]
  },
  {
   "cell_type": "code",
   "execution_count": 106,
   "metadata": {
    "scrolled": true
   },
   "outputs": [],
   "source": [
    "LGBM = LGBMClassifier(objective = 'binary', boosting_type= 'gbdt',\n",
    "                      colsample_bytree=best_param['colsample_bytree'],\n",
    "                     learning_rate = best_param['learning_rate'],\n",
    "                     min_child_samples = best_param['min_child_samples'],\n",
    "                     min_child_weight = best_param['min_child_weight'],\n",
    "                     num_leaves = best_param['num_leaves'],\n",
    "                     reg_alpha = best_param['reg_alpha'],\n",
    "                     reg_lambda = best_param['reg_lambda'],\n",
    "                     subsample = best_param['subsample'])"
   ]
  },
  {
   "cell_type": "code",
   "execution_count": 107,
   "metadata": {},
   "outputs": [
    {
     "name": "stdout",
     "output_type": "stream",
     "text": [
      "0.7566682084306617\n"
     ]
    }
   ],
   "source": [
    "LGBM.fit(X_train,y_train)\n",
    "y_probas = LGBM.predict_proba(X_test)\n",
    "y_scores = y_probas[:,1]\n",
    "roc_auc = roc_auc_score(y_test, y_scores)\n",
    "print(roc_auc)"
   ]
  },
  {
   "cell_type": "markdown",
   "metadata": {},
   "source": [
    "#### Feautre Importance\n",
    "\n",
    "Tree-based model comes with feature importance method, we can take a look at this."
   ]
  },
  {
   "cell_type": "code",
   "execution_count": 74,
   "metadata": {
    "scrolled": false
   },
   "outputs": [
    {
     "data": {
      "image/png": "[encoded data removed]",
      "text/plain": [
       "<Figure size 576x720 with 1 Axes>"
      ]
     },
     "metadata": {
      "needs_background": "light"
     },
     "output_type": "display_data"
    }
   ],
   "source": [
    "feat_imp = pd.Series(LGBM.feature_importances_, index=final_df.drop(['SK_ID_CURR', 'TARGET'], axis=1).columns)\n",
    "feat_imp.nlargest(20).plot(kind='barh', figsize=(8,10)).invert_yaxis()"
   ]
  },
  {
   "cell_type": "markdown",
   "metadata": {},
   "source": [
    "#### G-MEAN\n",
    "\n",
    "The Geometric Mean or G-Mean is a metric for imbalanced classification that, if optimized, will seek a balance between the sensitivity and the specificity. We will use this metric for our throshold optimization.\n",
    "\n",
    "G-Mean = sqrt(Sensitivity * Specificity)"
   ]
  },
  {
   "cell_type": "code",
   "execution_count": 90,
   "metadata": {},
   "outputs": [
    {
     "name": "stdout",
     "output_type": "stream",
     "text": [
      "Best Threshold=0.078413, G-Mean=0.691\n"
     ]
    },
    {
     "data": {
      "image/png": "[encoded data removed]",
      "text/plain": [
       "<Figure size 432x288 with 1 Axes>"
      ]
     },
     "metadata": {
      "needs_background": "light"
     },
     "output_type": "display_data"
    }
   ],
   "source": [
    "from numpy import sqrt\n",
    "from numpy import argmax\n",
    "fpr, tpr, thresholds = roc_curve(y_test, y_scores)\n",
    "# calculate the g-mean for each threshold\n",
    "gmeans = sqrt(tpr * (1-fpr))\n",
    "# locate the index of the largest g-mean\n",
    "ix = argmax(gmeans)\n",
    "print('Best Threshold=%f, G-Mean=%.3f' % (thresholds[ix], gmeans[ix]))\n",
    "# plot the roc curve for the model\n",
    "plt.plot([0,1], [0,1], linestyle='--', label='No Skill')\n",
    "plt.plot(fpr, tpr, marker='.', label='Logistic')\n",
    "plt.scatter(fpr[ix], tpr[ix], marker='o', color='black', label='Best')\n",
    "# axis labels\n",
    "plt.xlabel('False Positive Rate')\n",
    "plt.ylabel('True Positive Rate')\n",
    "plt.legend()\n",
    "# show the plot\n",
    "plt.show()"
   ]
  },
  {
   "cell_type": "code",
   "execution_count": 91,
   "metadata": {
    "scrolled": false
   },
   "outputs": [],
   "source": [
    "gmean_threshold = thresholds[ix]"
   ]
  },
  {
   "cell_type": "markdown",
   "metadata": {},
   "source": [
    "##### Here is how our model works eventually. Well, it is not a perfect model...\n",
    "\n",
    "##### However it perform acceptably in my opinion :D\n",
    "\n",
    "##### It can catch 68% of all the positive class.\n",
    "\n"
   ]
  },
  {
   "cell_type": "code",
   "execution_count": 95,
   "metadata": {
    "scrolled": false
   },
   "outputs": [
    {
     "data": {
      "image/png": "[encoded data removed]",
      "text/plain": [
       "<Figure size 432x288 with 2 Axes>"
      ]
     },
     "metadata": {
      "needs_background": "light"
     },
     "output_type": "display_data"
    },
    {
     "data": {
      "image/png": "[encoded data removed]",
      "text/plain": [
       "<Figure size 432x288 with 2 Axes>"
      ]
     },
     "metadata": {
      "needs_background": "light"
     },
     "output_type": "display_data"
    }
   ],
   "source": [
    "from sklearn.preprocessing import normalize\n",
    "from sklearn.metrics import confusion_matrix\n",
    "\n",
    "y_prob_tf = np.where(y_scores>gmean_threshold,1,0)\n",
    "cm = confusion_matrix(y_test, y_prob_tf)\n",
    "\n",
    "sns.heatmap(cm, annot=True, fmt=\"g\")\n",
    "plt.ylabel('Actual')\n",
    "plt.xlabel('Predict')\n",
    "plt.show()\n",
    "\n",
    "normalized_cm = normalize(cm, norm=\"l1\")\n",
    "sns.heatmap(normalized_cm , annot=True, fmt=\".2g\")\n",
    "plt.ylabel('Actual')\n",
    "plt.xlabel('Predict')\n",
    "plt.show()"
   ]
  },
  {
   "cell_type": "markdown",
   "metadata": {},
   "source": [
    "# _Pro & Cons for different algorithms_\n",
    "\n",
    "Source: https://towardsdatascience.com/pros-and-cons-of-various-classification-ml-algorithms-3b5bfb3c87d6\n",
    "\n",
    "### SVM (Support Vector Machine)\n",
    "- Pros\n",
    "  1. Performs well in Higher dimension. In real world there are infinite dimensions (and not just 2D and 3D). For instance image data, gene data, medical data etc. has higher dimensions and SVM is useful in that. Basically when the number of features/columns are higher, SVM does well\n",
    "  2. Best algorithm when classes are separable. (when instances of both the classes can be easily separated either by a straight line or non-linearly). \n",
    "  3. Outliers have less impact.\n",
    "  4. SVM is suited for extreme case binary classification.  \n",
    "\n",
    "- Cons:\n",
    "    1. Slow: For larger dataset, it requires a large amount of time to process.\n",
    "    2. Poor performance with Overlapped classes.\n",
    "    3. Selecting appropriate hyperparameters is important: That will allow for sufficient generalization performance.\n",
    "    4. Selecting the appropriate kernel function can be tricky.  \n",
    "    \n",
    "Applications:\n",
    "Bag of words application(many features and columns), speech recognition data, classification of images(non-linear data), medical analytics(non linear data), text classification(many features)\n",
    "\n",
    "\n",
    "### Naive Bayes\n",
    " - Pros\n",
    "    1. Real time predictions: It is very fast and can be used in real time.\n",
    "    2. Scalable with Large datasets\n",
    "    3. Insensitive to irrelevant features.\n",
    "    4. Multi class prediction is effectively done in Naive Bayes\n",
    "    5. Good performance with high dimensional data(no. of features is large)\n",
    " - Cons\n",
    "    1. Independence of features does not hold: The fundamental Naive Bayes assumption is that each feature makes an independent and equal contribution to the outcome. However this condition is not met most of the times.\n",
    "    2. Bad estimator: Probability outputs from predict_proba are not to be taken too seriously.\n",
    "    3. Training data should represent population well: If you have no occurrences of a class label and a certain attribute value together (e.g. class=”No”, shape=”Overcast “) then the posterior probability will be zero. So if the training data is not representative of the population, Naive bayes does not work well.(This problem is removed by smoothening techniques).\n",
    "\n",
    "Applications:\n",
    "Naive Bayes is used in Text classification/ Spam Filtering/ Sentiment Analysis. It is used in text classification (it can predict on multiple classes and doesn’t mind dealing with irrelevant features), Spam filtering (identify spam e-mail) and Sentiment Analysis (in social media analysis, to identify positive and negative sentiments), recommendation systems (what will the user buy next)\n",
    "\n",
    "### Logistic Regression\n",
    " - Pros\n",
    "    1. Simple to implement\n",
    "    2. Effective\n",
    "    3. Feature scaling not needed: Does not require input features to be scaled (can work with scaled features too, but doesn’t require scaling)\n",
    "    3. Tuning of hyperparameters not needed.\n",
    " - Cons\n",
    "    1. Poor performance on non-linear data(image data for e.g)\n",
    "    2. Poor performance with irrelevant and highly correlated features (use Boruta plot for removing similar or correlated features and irrelevant features).\n",
    "    3. Not very powerful algorithm and can be easily outperformed by other algorithms.\n",
    "    4. High reliance on proper presentation of data. All the important variables / features should be identified for it to work well.\n",
    "Applications:\n",
    "Any classification problem that is preferably binary (it can also perform multi class classification, but binary is preferred). For example you can use it if your output class has 2 outcomes; cancer detection problems, whether a student will pass/fail, default/no default in case of customer taking loan, whether a customer will churn or not, email is spam or not etc.\n",
    "\n",
    "### Random Forest\n",
    " - Pros:\n",
    "    1. Random forest can decorrelate trees. It picks the training sample and gives each tree a subset of the features(suppose training data was [1,2,3,4,5,6], so one tree will get subset of training data [1,2,3,2,6,6]. Note that size of training data remains same, both datas have length 6 and that feature ‘2’ and feature ‘6’ are repeated in the randomly sampled training data given to one tree. Each tree predicts according to the features it has. In this case tree 1 only has access to features 1,2,3 and 6 so it can predict based on these features. Some other tree will have access to features 1,4,5 say so it will predict according to those features. If features are highly correlated then that problem can be tackled in random forest.\n",
    "    2. Reduced error: Random forest is an ensemble of decision trees. For predicting the outcome of a particular row, random forest takes inputs from all the trees and then predicts the outcome. This ensures that the individual errors of trees are minimized and overall variance and error is reduced.\n",
    "    3. Good Performance on Imbalanced datasets : It can also handle errors in imbalanced data (one class is majority and other class is minority)\n",
    "    4. Handling of huge amount of data: It can handle huge amount of data with higher dimensionality of variables.\n",
    "    5. Good handling of missing data: It can handle missing data very well. So if there is large amount of missing data in your model, it will give good results.\n",
    "    6. Little impact of outliers: As the final outcome is taken by consulting many decision trees so certain data points which are outliers will not have a very big impact on Random Forest.\n",
    "    7. No problem of overfitting: In Random forest considers only a subset of features, and the final outcome depends on all the trees. So there is more generalization and less overfitting.\n",
    "    8. Useful to extract feature importance (we can use it for feature selection)\n",
    " - Cons:\n",
    "    1. Features need to have some predictive power else they won’t work.\n",
    "    2. Predictions of the trees need to be uncorrelated.\n",
    "    3. Appears as Black Box: It is tough to know what is happening. You can at best try different parameters and random seeds to change the outcomes and performance.\n",
    "- Applications:\n",
    "Credit card default, fraud customer/not, easy to identify patient’s disease or not, recommendation system for ecommerce sites.\n",
    "\n",
    "### Decision Trees\n",
    " - Pros\n",
    "    1. Normalization or scaling of data not needed.\n",
    "    2. No considerable impact of missing values.\n",
    "    3. Easy to explain to non-technical team members.\n",
    "    4. Easy visualization\n",
    "    5. Automatic Feature selection : Irrelevant features won’t affect decision trees.\n",
    " - Cons\n",
    "    1. Prone to overfitting.\n",
    "    2. Sensitive to data. If data changes slightly, the outcomes can change to a very large extent.\n",
    "    3. Higher time required to train decision trees.\n",
    "- Applications:\n",
    "Identifying buyers for products, prediction of likelihood of default, which strategy can maximize profit, finding strategy for cost minimization, which features are most important to attract and retain customers (is it the frequency of shopping, is it the frequent discounts, is it the product mix etc), fault diagnosis in machines(keep measuring pressure, vibrations and other measures and predict before a fault occurs) etc.  \n",
    "\n",
    "\n",
    "### XGBoost\n",
    " - Pros\n",
    "    1. Less feature engineering required (No need for scaling, normalizing data, can also handle missing values well)\n",
    "    2. Feature importance can be found out(it output importance of each feature, can be used for feature selection)\n",
    "    3. Fast to interpret\n",
    "    4. Outliers have minimal impact.\n",
    "    5. Handles large sized datasets well.\n",
    "    6. Good Execution speed\n",
    "    7. Good model performance (wins most of the Kaggle competitions)\n",
    "    8. Less prone to overfitting\n",
    " - Cons\n",
    "    1. Difficult interpretation , visualization tough\n",
    "    2. Overfitting possible if parameters not tuned properly.\n",
    "    3. Harder to tune as there are too many hyperparameters.\n",
    "- Applications\n",
    "Any classification problem. Specially useful if you have too many features and too large datasets, outliers are present, there are many missing values and you don’t want to do much feature engineering. It wins almost all competitions so this is an algo you must definitely have in mind while solving any classification problem. \n",
    "\n",
    "\n",
    "### k-NN (K Nearest Neighbors)\n",
    " - Pros\n",
    "    1. Simple to understand and impelment\n",
    "    2. No assumption about data (for e.g. in case of linear regression we assume dependent variable and independent variables are linearly related, in Naïve Bayes we assume features are independent of each other etc., but k-NN makes no assumptions about data)\n",
    "    3. Constantly evolving model: When it is exposed to new data, it changes to accommodate the new data points.\n",
    "    4. Multi-class problems can also be solved.\n",
    "    5. One Hyper Parameter: K-NN might take some time while selecting the first hyper parameter but after that rest of the parameters are aligned to it.\n",
    " - Cons\n",
    "    1. Slow for large datasets.\n",
    "    2. Curse of dimensionality: Does not work very well on datasets with large number of features.\n",
    "    3. Scaling of data absolute must.\n",
    "    4. Does not work well on Imbalanced data. So before using k-NN either undersamplemajority class or oversample minority class and have a balanced dataset.\n",
    "    5. Sensitive to outliers.\n",
    "    6. Can’t deal well with missing values\n",
    "- Applications:\n",
    "You can use it for any classification problem when dataset is smaller, and has lesser number of features so that computation time taken by k-NN is less. If you do not know the shape of the data and the way output and inputs are related (whether classes can be separated by a line or ellipse or parabola etc.), then you can use k-NN."
   ]
  }
 ],
 "metadata": {
  "kernelspec": {
   "display_name": "Python 3",
   "language": "python",
   "name": "python3"
  },
  "language_info": {
   "codemirror_mode": {
    "name": "ipython",
    "version": 3
   },
   "file_extension": ".py",
   "mimetype": "text/x-python",
   "name": "python",
   "nbconvert_exporter": "python",
   "pygments_lexer": "ipython3",
   "version": "3.8.5"
  }
 },
 "nbformat": 4,
 "nbformat_minor": 4
}
